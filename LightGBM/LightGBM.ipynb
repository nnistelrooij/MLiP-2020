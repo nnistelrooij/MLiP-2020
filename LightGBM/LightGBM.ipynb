{
 "cells": [
  {
   "cell_type": "code",
   "execution_count": 1,
   "metadata": {},
   "outputs": [],
   "source": [
    "import numpy as np\n",
    "import pandas as pd\n",
    "\n",
    "import lightgbm as lgb\n",
    "\n",
    "import gc\n",
    "\n",
    "from data import data_frames, optimize_df, lgb_dataset\n",
    "import model"
   ]
  },
  {
   "cell_type": "markdown",
   "metadata": {},
   "source": [
    "## Data Loading"
   ]
  },
  {
   "cell_type": "code",
   "execution_count": 3,
   "metadata": {},
   "outputs": [],
   "source": [
    "DATADIR = '../kaggle/input/m5-forecasting-accuracy/'"
   ]
  },
  {
   "cell_type": "code",
   "execution_count": 3,
   "metadata": {},
   "outputs": [
    {
     "name": "stdout",
     "output_type": "stream",
     "text": [
      "Wall time: 6.33 s\n"
     ]
    }
   ],
   "source": [
    "%%time\n",
    "calendar, prices, sales = data_frames(DATADIR)"
   ]
  },
  {
   "cell_type": "code",
   "execution_count": 4,
   "metadata": {},
   "outputs": [
    {
     "name": "stdout",
     "output_type": "stream",
     "text": [
      "Mem. usage decreased to  0.06 Mb (63.4% reduction)\n",
      "Mem. usage decreased to 45.67 Mb (65.0% reduction)\n",
      "Mem. usage decreased to  4.57 Mb (80.8% reduction)\n",
      "Wall time: 2.21 s\n"
     ]
    }
   ],
   "source": [
    "%%time\n",
    "DAYS = 100\n",
    "calendar, prices, sales = optimize_df(calendar, prices, sales, days=DAYS, verbose=True)"
   ]
  },
  {
   "cell_type": "code",
   "execution_count": 5,
   "metadata": {},
   "outputs": [
    {
     "name": "stdout",
     "output_type": "stream",
     "text": [
      "Wall time: 1min 18s\n"
     ]
    }
   ],
   "source": [
    "%%time\n",
    "train_set, val_set = lgb_dataset(calendar, prices, sales)"
   ]
  },
  {
   "cell_type": "markdown",
   "metadata": {},
   "source": [
    "## Model"
   ]
  },
  {
   "cell_type": "code",
   "execution_count": 6,
   "metadata": {},
   "outputs": [
    {
     "name": "stdout",
     "output_type": "stream",
     "text": [
      "Training until validation scores don't improve for 10 rounds\n",
      "[10]\ttrain's rmse: 2.81617\tvalidation's rmse: 2.84672\n",
      "[20]\ttrain's rmse: 2.39737\tvalidation's rmse: 2.44783\n",
      "[30]\ttrain's rmse: 2.16778\tvalidation's rmse: 2.23834\n",
      "[40]\ttrain's rmse: 2.04497\tvalidation's rmse: 2.13285\n",
      "[50]\ttrain's rmse: 1.97551\tvalidation's rmse: 2.07923\n",
      "[60]\ttrain's rmse: 1.93571\tvalidation's rmse: 2.0525\n",
      "[70]\ttrain's rmse: 1.91189\tvalidation's rmse: 2.04053\n",
      "[80]\ttrain's rmse: 1.89311\tvalidation's rmse: 2.03267\n",
      "[90]\ttrain's rmse: 1.87857\tvalidation's rmse: 2.02734\n",
      "[100]\ttrain's rmse: 1.86932\tvalidation's rmse: 2.02408\n",
      "Did not meet early stopping. Best iteration is:\n",
      "[100]\ttrain's rmse: 1.86932\tvalidation's rmse: 2.02408\n",
      "Wall time: 16.3 s\n"
     ]
    }
   ],
   "source": [
    "%%time\n",
    "# MODELDIR = '../models/'\n",
    "# filepath = f'{MODEL_DIR}model.lgb'\n",
    "lgb_model = model.train(train_set, val_set)"
   ]
  },
  {
   "cell_type": "markdown",
   "metadata": {},
   "source": [
    "## Submission"
   ]
  },
  {
   "cell_type": "code",
   "execution_count": 1,
   "metadata": {},
   "outputs": [],
   "source": [
    "import main"
   ]
  },
  {
   "cell_type": "code",
   "execution_count": 4,
   "metadata": {},
   "outputs": [
    {
     "name": "stdout",
     "output_type": "stream",
     "text": [
      "Loading training data...\n",
      "Data load time: 0:01:20.893288\n",
      "Training until validation scores don't improve for 10 rounds\n",
      "[10]\ttrain's rmse: 2.81617\tvalidation's rmse: 2.84672\n",
      "[20]\ttrain's rmse: 2.39737\tvalidation's rmse: 2.44783\n",
      "[30]\ttrain's rmse: 2.16778\tvalidation's rmse: 2.23834\n",
      "[40]\ttrain's rmse: 2.04497\tvalidation's rmse: 2.13285\n",
      "[50]\ttrain's rmse: 1.97551\tvalidation's rmse: 2.07923\n",
      "[60]\ttrain's rmse: 1.93571\tvalidation's rmse: 2.0525\n",
      "[70]\ttrain's rmse: 1.91189\tvalidation's rmse: 2.04053\n",
      "[80]\ttrain's rmse: 1.89311\tvalidation's rmse: 2.03267\n",
      "[90]\ttrain's rmse: 1.87857\tvalidation's rmse: 2.02734\n",
      "[100]\ttrain's rmse: 1.86932\tvalidation's rmse: 2.02408\n",
      "Did not meet early stopping. Best iteration is:\n",
      "[100]\ttrain's rmse: 1.86932\tvalidation's rmse: 2.02408\n",
      "Model train time: 0:00:16.035946\n",
      "Wall time: 1min 36s\n"
     ]
    }
   ],
   "source": [
    "%%time\n",
    "my_model = main.run(DATADIR, days=100)"
   ]
  },
  {
   "cell_type": "code",
   "execution_count": null,
   "metadata": {},
   "outputs": [],
   "source": []
  }
 ],
 "metadata": {
  "kernelspec": {
   "display_name": "Python 3",
   "language": "python",
   "name": "python3"
  },
  "language_info": {
   "codemirror_mode": {
    "name": "ipython",
    "version": 3
   },
   "file_extension": ".py",
   "mimetype": "text/x-python",
   "name": "python",
   "nbconvert_exporter": "python",
   "pygments_lexer": "ipython3",
   "version": "3.7.1"
  }
 },
 "nbformat": 4,
 "nbformat_minor": 4
}
