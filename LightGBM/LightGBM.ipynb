{
 "cells": [
  {
   "cell_type": "code",
   "execution_count": 1,
   "metadata": {},
   "outputs": [],
   "source": [
    "import numpy as np\n",
    "import pandas as pd\n",
    "\n",
    "import lightgbm as lgb\n",
    "\n",
    "import gc\n",
    "from datetime import datetime\n",
    "\n",
    "from sklearn.model_selection import train_test_split\n",
    "\n",
    "from data import optimize_df, features"
   ]
  },
  {
   "cell_type": "markdown",
   "metadata": {},
   "source": [
    "## Data Loading"
   ]
  },
  {
   "cell_type": "code",
   "execution_count": 2,
   "metadata": {},
   "outputs": [],
   "source": [
    "DATADIR = '../kaggle/input/m5-forecasting-accuracy/'"
   ]
  },
  {
   "cell_type": "code",
   "execution_count": 3,
   "metadata": {},
   "outputs": [
    {
     "name": "stdout",
     "output_type": "stream",
     "text": [
      "Time: 0:00:06.617656\n"
     ]
    }
   ],
   "source": [
    "start = datetime.now()\n",
    "\n",
    "calendar = pd.read_csv(f'{DATADIR}calendar.csv')\n",
    "prices = pd.read_csv(f'{DATADIR}sell_prices.csv')\n",
    "sales = pd.read_csv(f'{DATADIR}sales_train_validation.csv')\n",
    "\n",
    "print('Time:', datetime.now() - start)"
   ]
  },
  {
   "cell_type": "code",
   "execution_count": 4,
   "metadata": {},
   "outputs": [
    {
     "name": "stdout",
     "output_type": "stream",
     "text": [
      "Mem. usage decreased to  0.06 Mb (63.4% reduction)\n",
      "Mem. usage decreased to 45.67 Mb (65.0% reduction)\n",
      "Mem. usage decreased to 16.49 Mb (80.7% reduction)\n",
      "Time: 0:00:11.499733\n"
     ]
    }
   ],
   "source": [
    "start = datetime.now()\n",
    "\n",
    "calendar, prices, sales = optimize_df(calendar, prices, sales, days=365, verbose=True)\n",
    "\n",
    "print('Time:', datetime.now() - start)"
   ]
  },
  {
   "cell_type": "code",
   "execution_count": 5,
   "metadata": {},
   "outputs": [
    {
     "name": "stdout",
     "output_type": "stream",
     "text": [
      "Time: 0:00:08.251601\n"
     ]
    }
   ],
   "source": [
    "start = datetime.now()\n",
    "\n",
    "id_cols = ['id', 'item_id', 'dept_id','store_id', 'cat_id', 'state_id']\n",
    "df = pd.melt(sales,\n",
    "             id_vars = id_cols,\n",
    "             var_name = 'd',\n",
    "             value_name = 'sales')\n",
    "\n",
    "df = df.merge(calendar, on = 'd', copy = False)\n",
    "df = df.merge(prices, on = ['store_id', 'item_id', 'wm_yr_wk'], copy = False)\n",
    "\n",
    "print('Time:', datetime.now() - start)"
   ]
  },
  {
   "cell_type": "markdown",
   "metadata": {},
   "source": [
    "## Feature Engineering"
   ]
  },
  {
   "cell_type": "code",
   "execution_count": 6,
   "metadata": {},
   "outputs": [
    {
     "name": "stdout",
     "output_type": "stream",
     "text": [
      "Time: 0:01:31.645398\n"
     ]
    }
   ],
   "source": [
    "start = datetime.now()\n",
    "\n",
    "features(df)\n",
    "\n",
    "print('Time:', datetime.now() - start)"
   ]
  },
  {
   "cell_type": "code",
   "execution_count": 9,
   "metadata": {},
   "outputs": [
    {
     "name": "stdout",
     "output_type": "stream",
     "text": [
      "(11096813, 31)\n"
     ]
    },
    {
     "data": {
      "text/plain": [
       "(9419863, 31)"
      ]
     },
     "execution_count": 9,
     "metadata": {},
     "output_type": "execute_result"
    }
   ],
   "source": [
    "print('Before:', df.shape)\n",
    "df.dropna(inplace = True)\n",
    "print('After:', df.shape)"
   ]
  },
  {
   "cell_type": "code",
   "execution_count": 55,
   "metadata": {},
   "outputs": [],
   "source": [
    "cat_features = ['item_id', 'dept_id', 'store_id', 'cat_id', 'state_id'] + \\\n",
    "               ['event_name_1', 'event_name_2', 'event_type_1', 'event_type_2']\n",
    "    \n",
    "drop_cols = [\"id\", \"date\", \"sales\", \"d\", \"wm_yr_wk\", \"weekday\"]\n",
    "keep_cols = df.columns[~df.columns.isin(drop_cols)]\n",
    "\n",
    "X = df[keep_cols]\n",
    "y = df[\"sales\"]"
   ]
  },
  {
   "cell_type": "code",
   "execution_count": 56,
   "metadata": {},
   "outputs": [],
   "source": [
    "X_train, X_test, y_train, y_test = train_test_split(X, y, test_size=0.20, random_state=0)"
   ]
  },
  {
   "cell_type": "code",
   "execution_count": 57,
   "metadata": {},
   "outputs": [],
   "source": [
    "train = lgb.Dataset(X_train, \n",
    "                    label=y_train, \n",
    "                    categorical_feature=cat_features)\n",
    "\n",
    "val = lgb.Dataset(X_test, \n",
    "                  label=y_test,\n",
    "                  categorical_feature=cat_features)"
   ]
  },
  {
   "cell_type": "markdown",
   "metadata": {},
   "source": [
    "## Model"
   ]
  },
  {
   "cell_type": "code",
   "execution_count": 58,
   "metadata": {},
   "outputs": [],
   "source": [
    "# All parameters can be found here:\n",
    "# https://lightgbm.readthedocs.io/en/latest/Parameters.html\n",
    "\n",
    "# From: https://www.kaggle.com/kneroma/m5-first-public-notebook-under-0-50\n",
    "params = {\n",
    "          \"objective\" : \"poisson\",\n",
    "          \"metric\" :\"rmse\",\n",
    "          \"force_row_wise\" : True,\n",
    "          \"learning_rate\" : 0.075,\n",
    "          \"sub_row\" : 0.75,\n",
    "          \"bagging_freq\" : 1,\n",
    "          \"lambda_l2\" : 0.1,\n",
    "          'num_leaves': 128,\n",
    "          \"min_data_in_leaf\": 100,\n",
    "         }\n",
    "\n",
    "num_rounds = 100"
   ]
  },
  {
   "cell_type": "code",
   "execution_count": 59,
   "metadata": {},
   "outputs": [
    {
     "name": "stdout",
     "output_type": "stream",
     "text": [
      "Training until validation scores don't improve for 10 rounds\n",
      "[10]\ttrain's rmse: 2.84826\tvalidation's rmse: 2.85563\n",
      "[20]\ttrain's rmse: 2.47718\tvalidation's rmse: 2.48983\n",
      "[30]\ttrain's rmse: 2.28129\tvalidation's rmse: 2.29859\n",
      "[40]\ttrain's rmse: 2.1799\tvalidation's rmse: 2.20052\n",
      "[50]\ttrain's rmse: 2.12613\tvalidation's rmse: 2.15018\n",
      "[60]\ttrain's rmse: 2.09775\tvalidation's rmse: 2.12453\n",
      "[70]\ttrain's rmse: 2.08076\tvalidation's rmse: 2.10989\n",
      "[80]\ttrain's rmse: 2.06946\tvalidation's rmse: 2.10095\n",
      "[90]\ttrain's rmse: 2.06042\tvalidation's rmse: 2.09412\n",
      "[100]\ttrain's rmse: 2.0543\tvalidation's rmse: 2.08979\n",
      "Did not meet early stopping. Best iteration is:\n",
      "[100]\ttrain's rmse: 2.0543\tvalidation's rmse: 2.08979\n"
     ]
    }
   ],
   "source": [
    "model = lgb.train(params, \n",
    "                  train, \n",
    "                  num_boost_round=num_rounds,\n",
    "                  valid_sets=[train, val], \n",
    "                  valid_names=['train', 'validation'],\n",
    "                  categorical_feature=train.categorical_feature,\n",
    "                  early_stopping_rounds=10,\n",
    "                  verbose_eval=int(num_rounds/10))"
   ]
  },
  {
   "cell_type": "markdown",
   "metadata": {},
   "source": [
    "## Submission"
   ]
  },
  {
   "cell_type": "code",
   "execution_count": null,
   "metadata": {},
   "outputs": [],
   "source": []
  }
 ],
 "metadata": {
  "kernelspec": {
   "display_name": "Python 3",
   "language": "python",
   "name": "python3"
  },
  "language_info": {
   "codemirror_mode": {
    "name": "ipython",
    "version": 3
   },
   "file_extension": ".py",
   "mimetype": "text/x-python",
   "name": "python",
   "nbconvert_exporter": "python",
   "pygments_lexer": "ipython3",
   "version": "3.7.1"
  }
 },
 "nbformat": 4,
 "nbformat_minor": 4
}
