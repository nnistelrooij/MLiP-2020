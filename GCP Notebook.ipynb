{
 "cells": [
  {
   "cell_type": "markdown",
   "metadata": {
    "colab_type": "text",
    "id": "cwXxGn5FkAGE"
   },
   "source": [
    "# Bengali.AI - Training loop\n",
    "\n",
    "The notebook was created in Kaggle. It only contains the code for the training loop, and the (preprocessed) data still has  to be put into a `Dataset` object (see below) to initialize the train/test datasets and loaders. After this is done, the training loop should work but I have only tested it as far as possible with a (simpler) placeholder dataset. Some parts do not have a defined output yet (e.g., model output), thus a certain output format is assumed for now in those cases."
   ]
  },
  {
   "cell_type": "code",
   "execution_count": 1,
   "metadata": {
    "colab": {},
    "colab_type": "code",
    "id": "MhtWUpchkAGS"
   },
   "outputs": [],
   "source": [
    "import numpy as np\n",
    "import pandas as pd\n",
    "import torch\n",
    "import torch.nn as nn\n",
    "from torch.utils.data import Dataset, DataLoader\n",
    "from tqdm.notebook import tqdm\n",
    "from sklearn.metrics import recall_score\n",
    "from scipy.stats import zscore\n",
    "import matplotlib.pyplot as plt\n",
    "%matplotlib notebook"
   ]
  },
  {
   "cell_type": "code",
   "execution_count": 2,
   "metadata": {
    "colab": {},
    "colab_type": "code",
    "id": "v2AzEzcjoTek"
   },
   "outputs": [],
   "source": [
    "train_images = np.load('train_image_data.npy')"
   ]
  },
  {
   "cell_type": "code",
   "execution_count": 3,
   "metadata": {
    "colab": {},
    "colab_type": "code",
    "id": "flZY7DeTn67F"
   },
   "outputs": [],
   "source": [
    "class ResidualBlock(nn.Module):\n",
    "    def __init__(self, in_channels, out_channels, stride=1, kernel_size=3, padding=1, bias=False):\n",
    "        super(ResidualBlock, self).__init__()\n",
    "        self.cnn1 = nn.Sequential(\n",
    "            nn.Conv2d(in_channels, out_channels, kernel_size, stride, padding, bias=False),\n",
    "            nn.BatchNorm2d(out_channels),\n",
    "            nn.ReLU(True)\n",
    "        )\n",
    "        self.cnn2 = nn.Sequential(\n",
    "            nn.Conv2d(out_channels, out_channels, kernel_size, 1, padding, bias=False),\n",
    "            nn.BatchNorm2d(out_channels)\n",
    "        )\n",
    "        if stride != 1 or in_channels != out_channels:\n",
    "            self.shortcut = nn.Sequential(\n",
    "                nn.Conv2d(in_channels, out_channels, kernel_size=1, stride=stride, bias=False),\n",
    "                nn.BatchNorm2d(out_channels)\n",
    "            )\n",
    "        else:\n",
    "            self.shortcut = nn.Sequential()\n",
    "\n",
    "    def forward(self, x):\n",
    "        residual = x\n",
    "        x = self.cnn1(x)\n",
    "        x = self.cnn2(x)\n",
    "        x += self.shortcut(residual)\n",
    "        x = nn.ReLU(True)(x)\n",
    "        return x\n",
    "\n",
    "\n",
    "class ResNet34(nn.Module):\n",
    "    \"\"\"\n",
    "    from 'ResNet-34 PyTorch Starter Kit'\n",
    "    \"\"\"\n",
    "\n",
    "    def __init__(self):\n",
    "        super(ResNet34, self).__init__()\n",
    "\n",
    "        self.block1 = nn.Sequential(\n",
    "            nn.Conv2d(1, 64, kernel_size=2, stride=2, padding=3, bias=False),\n",
    "            nn.BatchNorm2d(64),\n",
    "            nn.ReLU(True)\n",
    "        )\n",
    "\n",
    "        self.block2 = nn.Sequential(\n",
    "            nn.MaxPool2d(1, 1),\n",
    "            ResidualBlock(64, 64),\n",
    "            ResidualBlock(64, 64, 2)\n",
    "        )\n",
    "\n",
    "        self.block3 = nn.Sequential(\n",
    "            ResidualBlock(64, 128),\n",
    "            ResidualBlock(128, 128, 2)\n",
    "        )\n",
    "\n",
    "        self.block4 = nn.Sequential(\n",
    "            ResidualBlock(128, 256),\n",
    "            ResidualBlock(256, 256, 2)\n",
    "        )\n",
    "        self.block5 = nn.Sequential(\n",
    "            ResidualBlock(256, 512),\n",
    "            ResidualBlock(512, 512, 2)\n",
    "        )\n",
    "\n",
    "        self.avgpool = nn.AvgPool2d(2)\n",
    "        # grapheme_root\n",
    "        self.fc1 = nn.Linear(2048, 168)\n",
    "        # vowel_diacritic\n",
    "        self.fc2 = nn.Linear(2048, 11)\n",
    "        # consonant_diacritic\n",
    "        self.fc3 = nn.Linear(2048, 7)\n",
    "\n",
    "    def forward(self, x):\n",
    "        x = self.block1(x)\n",
    "        x = self.block2(x)\n",
    "        x = self.block3(x)\n",
    "        x = self.block4(x)\n",
    "        x = self.block5(x)\n",
    "        x = self.avgpool(x)\n",
    "        x = x.view(x.size(0), -1)\n",
    "        x1 = self.fc1(x)\n",
    "        x2 = self.fc2(x)\n",
    "        x3 = self.fc3(x)\n",
    "        return x1, x2, x3"
   ]
  },
  {
   "cell_type": "code",
   "execution_count": 4,
   "metadata": {
    "_cell_guid": "79c7e3d0-c299-4dcb-8224-4455121ee9b0",
    "_uuid": "d629ff2d2480ee46fbb7e2d37f6b5fab8052498a",
    "colab": {},
    "colab_type": "code",
    "id": "9KUkq0SMkAGY"
   },
   "outputs": [
    {
     "data": {
      "text/html": [
       "<div>\n",
       "<style scoped>\n",
       "    .dataframe tbody tr th:only-of-type {\n",
       "        vertical-align: middle;\n",
       "    }\n",
       "\n",
       "    .dataframe tbody tr th {\n",
       "        vertical-align: top;\n",
       "    }\n",
       "\n",
       "    .dataframe thead th {\n",
       "        text-align: right;\n",
       "    }\n",
       "</style>\n",
       "<table border=\"1\" class=\"dataframe\">\n",
       "  <thead>\n",
       "    <tr style=\"text-align: right;\">\n",
       "      <th></th>\n",
       "      <th>image_id</th>\n",
       "      <th>grapheme_root</th>\n",
       "      <th>vowel_diacritic</th>\n",
       "      <th>consonant_diacritic</th>\n",
       "      <th>grapheme</th>\n",
       "    </tr>\n",
       "  </thead>\n",
       "  <tbody>\n",
       "    <tr>\n",
       "      <th>0</th>\n",
       "      <td>Train_0</td>\n",
       "      <td>15</td>\n",
       "      <td>9</td>\n",
       "      <td>5</td>\n",
       "      <td>ক্ট্রো</td>\n",
       "    </tr>\n",
       "    <tr>\n",
       "      <th>1</th>\n",
       "      <td>Train_1</td>\n",
       "      <td>159</td>\n",
       "      <td>0</td>\n",
       "      <td>0</td>\n",
       "      <td>হ</td>\n",
       "    </tr>\n",
       "    <tr>\n",
       "      <th>2</th>\n",
       "      <td>Train_2</td>\n",
       "      <td>22</td>\n",
       "      <td>3</td>\n",
       "      <td>5</td>\n",
       "      <td>খ্রী</td>\n",
       "    </tr>\n",
       "    <tr>\n",
       "      <th>3</th>\n",
       "      <td>Train_3</td>\n",
       "      <td>53</td>\n",
       "      <td>2</td>\n",
       "      <td>2</td>\n",
       "      <td>র্টি</td>\n",
       "    </tr>\n",
       "    <tr>\n",
       "      <th>4</th>\n",
       "      <td>Train_4</td>\n",
       "      <td>71</td>\n",
       "      <td>9</td>\n",
       "      <td>5</td>\n",
       "      <td>থ্রো</td>\n",
       "    </tr>\n",
       "  </tbody>\n",
       "</table>\n",
       "</div>"
      ],
      "text/plain": [
       "  image_id  grapheme_root  vowel_diacritic  consonant_diacritic grapheme\n",
       "0  Train_0             15                9                    5   ক্ট্রো\n",
       "1  Train_1            159                0                    0        হ\n",
       "2  Train_2             22                3                    5     খ্রী\n",
       "3  Train_3             53                2                    2     র্টি\n",
       "4  Train_4             71                9                    5     থ্রো"
      ]
     },
     "execution_count": 4,
     "metadata": {},
     "output_type": "execute_result"
    }
   ],
   "source": [
    "train_labels = pd.read_csv('train.csv')\n",
    "train_labels.head()"
   ]
  },
  {
   "cell_type": "markdown",
   "metadata": {
    "colab_type": "text",
    "id": "Kvac-J-YkAGo"
   },
   "source": [
    "TODO: split dataset into train and validation set."
   ]
  },
  {
   "cell_type": "code",
   "execution_count": 5,
   "metadata": {},
   "outputs": [],
   "source": [
    "# use GPU if available\n",
    "device = torch.device('cuda' if torch.cuda.is_available() else 'cpu')\n",
    "\n",
    "model = ResNet34() # initialize model here\n",
    "model = model.to(device)\n",
    "optimizer = torch.optim.Adam(model.parameters(), lr=0.001)\n",
    "criterion = nn.CrossEntropyLoss()"
   ]
  },
  {
   "cell_type": "code",
   "execution_count": 16,
   "metadata": {
    "colab": {},
    "colab_type": "code",
    "id": "C0XlmbNckAGq"
   },
   "outputs": [],
   "source": [
    "# Put data into Dataset object\n",
    "class BengaliDataset(Dataset):\n",
    "    def __init__(self, images, labels, device):\n",
    "        super(Dataset, self).__init__()\n",
    "        self.images = images\n",
    "        \n",
    "        self.labels = labels.iloc[:, 1:-1].to_numpy()\n",
    "        self.labels = torch.tensor(self.labels).to(device)\n",
    "        \n",
    "        self.device = device\n",
    "\n",
    "    def __len__(self):\n",
    "        return len(self.images)\n",
    "\n",
    "    def __getitem__(self, idx):\n",
    "        img = torch.tensor(self.images[idx], dtype=torch.float32)\n",
    "        img = img.to(self.device).unsqueeze(0)\n",
    "        img = (img - 18.199728) / 52.948593\n",
    "        \n",
    "        labels = tuple(self.labels[idx])\n",
    "\n",
    "        return (img,) + labels       "
   ]
  },
  {
   "cell_type": "code",
   "execution_count": 17,
   "metadata": {},
   "outputs": [],
   "source": [
    "BATCH_SIZE = 128\n",
    "train_dataset = BengaliDataset(train_images, train_labels, device) # alternatively use TensorDataset\n",
    "train_loader = DataLoader(train_dataset, batch_size=BATCH_SIZE, shuffle=True) # num_workers can be set\n",
    "# TODO: test_dataset and test_loader (=validation set)"
   ]
  },
  {
   "cell_type": "code",
   "execution_count": 18,
   "metadata": {
    "colab": {},
    "colab_type": "code",
    "id": "Y4Yk4QRlkAG7"
   },
   "outputs": [],
   "source": [
    "def eval_metric(pred_dict, true_dict):\n",
    "    \"\"\"\n",
    "    Competition evaluation metric adapted from:\n",
    "    https://www.kaggle.com/c/bengaliai-cv19/overview/evaluation\n",
    "    The metric describes the weighted average of component \n",
    "    macro-averaged recalls.\n",
    "    \n",
    "    Args:\n",
    "        pred_dict = [dict] dictionary with components as keys and\n",
    "                           lists of predictions as values\n",
    "        true_dict = [dict] dictionary with components as key and\n",
    "                           lists of targets as values\n",
    "    \n",
    "    Returns [float]:\n",
    "        Weighted average of component macro-averaged recalls\n",
    "    \"\"\"\n",
    "    scores = []\n",
    "    for key in ['grapheme', 'vowel', 'consonant']:\n",
    "        score = recall_score(true_dict[key], pred_dict[key], average='macro')\n",
    "        scores.append(score)\n",
    "    return np.average(scores, weights=[2, 1, 1])"
   ]
  },
  {
   "cell_type": "code",
   "execution_count": 19,
   "metadata": {
    "colab": {},
    "colab_type": "code",
    "id": "3lZbC2IckAHA"
   },
   "outputs": [],
   "source": [
    "def update_dicts(key, pred_dict, true_dict, pred, target):\n",
    "    \"\"\"\n",
    "    Updates two dictionaries given a key with the provided values.\n",
    "    Assumes batches.\n",
    "    \n",
    "    Args:\n",
    "        key       = [string] the key in the dictionary to update\n",
    "        pred_dict = [dict] dictionary with components as keys and\n",
    "                           lists of predictions as values\n",
    "        true_dict = [dict] dictionary with components as key and\n",
    "                           lists of targets as values\n",
    "        pred      = [torch.Tensor] tensor of (raw) predictions\n",
    "        target    = [torch.Tensor] tensor of targets\n",
    "    \"\"\"\n",
    "    _, pred = torch.max(pred.data, 1)\n",
    "    pred_list = pred.tolist()\n",
    "    target_list = target.tolist()\n",
    "    pred_dict[key] += pred_list\n",
    "    true_dict[key] += target_list"
   ]
  },
  {
   "cell_type": "markdown",
   "metadata": {
    "colab_type": "text",
    "id": "7pEzITCBkAHI"
   },
   "source": [
    "Naming convention:\n",
    "- `x` = input\n",
    "- `t` = target\n",
    "- `y` = predicted output\n"
   ]
  },
  {
   "cell_type": "code",
   "execution_count": 20,
   "metadata": {
    "colab": {},
    "colab_type": "code",
    "id": "qW6ECh0vkAHL"
   },
   "outputs": [],
   "source": [
    "def train(model, train_loader, optimizer, criterion, epochs=10, PATH=None):\n",
    "    losses = [] # keep track of losses\n",
    "    scores = [] # keep track of scores\n",
    "    \n",
    "    for epoch in range(epochs):\n",
    "        running_loss = 0.0\n",
    "        pred_dict = {'grapheme': [], 'vowel': [], 'consonant': []}\n",
    "        true_dict = {'grapheme': [], 'vowel': [], 'consonant': []}\n",
    "        \n",
    "        for i, data in enumerate( tqdm(train_loader, desc=f\"Epoch {epoch+1}\") ):\n",
    "            # unpack input and targets\n",
    "            x, t_graph, t_vowel, t_conso = data # depends on what is returned by Dataset.__getitem__\n",
    "            \n",
    "            # predict\n",
    "            optimizer.zero_grad()            \n",
    "            y_graph, y_vowel, y_conso = model(x) # depends on what is returned by the model.forward()\n",
    "            \n",
    "            # loss\n",
    "            loss_graph = criterion(y_graph, t_graph)\n",
    "            loss_vowel = criterion(y_vowel, t_vowel)\n",
    "            loss_conso = criterion(y_conso, t_conso)\n",
    "            loss = loss_graph + loss_vowel + loss_conso # maybe tailor loss to evaluation metric\n",
    "            loss.backward()\n",
    "            optimizer.step()            \n",
    "            running_loss += loss.item()\n",
    "            \n",
    "            # update pred_dict and true_dict\n",
    "            update_dicts('grapheme', pred_dict, true_dict, y_graph, t_graph)\n",
    "            update_dicts('vowel', pred_dict, true_dict, y_vowel, t_vowel)\n",
    "            update_dicts('consonant', pred_dict, true_dict, y_conso, t_conso)\n",
    "        \n",
    "        losses.append(running_loss / len(train_loader))\n",
    "        score = eval_metric(pred_dict, true_dict)\n",
    "        scores.append( score )\n",
    "        \n",
    "        print('Loss: {:.3f}'.format( running_loss / len(train_loader) ))\n",
    "        print('Score: {:.3f}'.format( score ))\n",
    "        \n",
    "    # save model weights if PATH is provided\n",
    "    if PATH:\n",
    "        torch.save(model.state_dict(), PATH)\n",
    "    return losses, scores            "
   ]
  },
  {
   "cell_type": "code",
   "execution_count": 21,
   "metadata": {
    "colab": {
     "base_uri": "https://localhost:8080/",
     "height": 340
    },
    "colab_type": "code",
    "id": "Nei3Dc8YkAHR",
    "outputId": "e98ea9e5-53dd-43eb-ae5c-703afbb376cb"
   },
   "outputs": [
    {
     "data": {
      "application/vnd.jupyter.widget-view+json": {
       "model_id": "d5ae2be6e75d44009e306fe3f2c25307",
       "version_major": 2,
       "version_minor": 0
      },
      "text/plain": [
       "HBox(children=(FloatProgress(value=0.0, description='Epoch 1', max=1570.0, style=ProgressStyle(description_wid…"
      ]
     },
     "metadata": {},
     "output_type": "display_data"
    },
    {
     "name": "stdout",
     "output_type": "stream",
     "text": [
      "tensor([ 44,  95, 124,  71,  85,  48,  13, 141,  59, 133, 139,  17,  55, 123,\n",
      "         96, 124,   2,  56,  54, 147,  90, 159, 149, 107,  79,  85,  54,  48,\n",
      "         96,  83,  96,  98,  69, 107,  57, 153, 163, 151, 115, 122, 142,  24,\n",
      "         45, 143, 153,  77,  50,  22, 118,  14,  81,  93, 139,  38,  64, 114,\n",
      "         23,  85,  36, 153, 121, 133, 107,  23, 107, 123,  72, 137,  98,  23,\n",
      "         36,  53, 119,  43,  36, 100, 117, 146, 157, 127, 147,  38,  81,  95,\n",
      "        119, 107,  16,  38, 115, 147,  94,  96,  53, 132,  86, 115,  85,  79,\n",
      "         96,  38,  57,  71,  43,  79, 145, 103, 122,  43,  72,  28,  85,  96,\n",
      "         74,  88, 155,  56, 116,  38,  92, 167, 106,  25, 139, 115,  79, 107,\n",
      "         77,  13])\n",
      "tensor([113,  53,  22,  42, 135,  74,  64,  96,  81,  50,  39, 156, 149, 112,\n",
      "        133, 153, 139, 107, 132, 118,  40, 101, 135, 150, 122, 117,  58, 149,\n",
      "         16,  72, 159,  59,  53,  23,  68,  15,  42, 159, 101,  82, 117,  72,\n",
      "         83,  21,  29,  85, 122, 113,   8, 133,  58, 107, 152,  13,  71,  22,\n",
      "        128, 123,  96,  29,  65,  38, 162, 107, 113, 136,  43,  47, 112, 113,\n",
      "        117, 165,  37, 123,  41,  94,  72, 149,  96,  77,  67,  13, 117, 141,\n",
      "         96,  56, 129,  96,  30,  48,  83,  86, 107, 120, 123, 148,  13, 107,\n",
      "        140,  86,  96, 156,  65,  29,  76, 129,  75,  89,  29,  69, 149, 143,\n",
      "         68,  13,  72,  44,  98,  82, 115,  62,  89, 155,  96, 147,  66,  65,\n",
      "        120,  25])\n",
      "tensor([109,  74, 129, 103, 131, 107, 133, 159,  68,  32,  32, 151, 103,  56,\n",
      "         72,  96, 103, 118, 107, 162, 115,  81,  53, 115,  96,   3, 141,  23,\n",
      "         96, 159,  98, 133,  53, 100,  97, 155,  42, 149,  74,  13,  16,  21,\n",
      "        154,  24, 147, 123,  13, 125,  76,  43,  64, 122, 149,  13,  58,  52,\n",
      "        117, 118, 151, 113, 159, 113, 163,  86,  66,  13,  92, 123, 113, 159,\n",
      "         17, 120,  91, 119, 152,  74,  96, 124, 111, 101, 103,  71,  94, 118,\n",
      "        147,  16,  59,  43,  36,  72,  64,  74,  86,  96,  91, 139, 107,  85,\n",
      "        147, 115,  93,  79,  55,  91,  79,  23,  74,  72,  68, 113, 113, 159,\n",
      "        107,  13,  31, 162, 149,  74,   8, 147,  77,  86,  16,  88,  23, 126,\n",
      "         55,  59])\n",
      "tensor([122,  23, 141,  13,  29,  43, 147,  13, 150,  64, 133,  59,  99, 133,\n",
      "        113,  72, 131, 133,  87,  22, 142,  68, 165,  22,  23, 117, 162, 119,\n",
      "         85,  72, 113, 113,  70, 124, 133, 129,  65, 117, 109, 167, 133,  58,\n",
      "         98, 148,  17, 122,  89,  23, 139, 151,  23, 103,  38,  96,  94, 122,\n",
      "         39, 100,  89, 152,  30,  43,  56,  72,  42, 149, 153, 107, 149, 119,\n",
      "         86,  72,  38,  48, 161,  89,  23,  55, 115,  96, 119,  38,  14,  32,\n",
      "         61,  65, 109,  48, 141, 106,  43,  13,  65,  96, 165,  16, 107,  64,\n",
      "        116,  31,  66,  85,  64,  89, 119, 135,   9,  64,  79, 165, 107,  48,\n",
      "        113, 113, 160, 133,  36,  48, 133,  56,  23, 116,  65,  81,  23,  75,\n",
      "         48, 133])\n",
      "tensor([ 89, 151, 142,  71,  59,  50,  42,  22, 133,  85,  74,  16, 115,  22,\n",
      "         29, 132,  10,  53,  53,  18,  74,  65, 141, 123,  96, 115,  23,  79,\n",
      "         18, 149,  37, 147,  69,  81, 110, 149, 120, 159, 106,  52, 147,  85,\n",
      "        125, 141, 101, 100, 103,  38,   6, 147, 128,  74, 151,  13,  23,  53,\n",
      "         59, 167, 141, 107,  74, 103,  48, 148,  64,  79,  81, 150, 103,  18,\n",
      "         14,  72, 147, 134, 121, 117, 139, 120,  70,  25, 119,  81,  29,  78,\n",
      "         38,  32, 115, 133,  40, 141, 133,  72,  44, 118,  58, 153,  24,  96,\n",
      "         29,  36,  40, 144, 128, 142, 131,  48,  92, 148, 107, 101, 103,  58,\n",
      "          2,  23,  81, 117,  62,  91,  79, 150,  66, 147,  38, 106, 147,  22,\n",
      "         63, 159])\n",
      "tensor([ 96,  50,  50,  13,  91,  74,  56, 103,  72, 141,  85,  80,  52,  56,\n",
      "        150,  98, 113,  52, 132, 129, 155,  56,  76,  91,  13, 164,  81,  65,\n",
      "        156,  38,  72,  25,  49,  38,  13, 143,  21, 136,  89, 121, 115, 162,\n",
      "         43, 131, 131, 149, 103,  14,  86,  48,  25,  52, 138,  13,  44, 103,\n",
      "         59,  43,  36,   3,  93,  77,  71,  38, 123,  23, 122, 115,  53,  13,\n",
      "         62, 113, 113, 107,  72,  44,  53, 155, 154,  76,  81, 159,  72,  53,\n",
      "        112, 111, 150,  59, 100, 115,  86, 147,  59, 150, 159,  89,  64, 156,\n",
      "         57, 133,  48,  90,  42, 115,  64, 113,  13, 107, 129, 124,  75,  53,\n",
      "        133, 165, 107,  22,  89, 162, 133,  62,  94,  18,  84, 148, 136, 125,\n",
      "         55, 133])\n"
     ]
    },
    {
     "ename": "KeyboardInterrupt",
     "evalue": "",
     "output_type": "error",
     "traceback": [
      "\u001b[0;31m---------------------------------------------------------------------------\u001b[0m",
      "\u001b[0;31mKeyboardInterrupt\u001b[0m                         Traceback (most recent call last)",
      "\u001b[0;32m<ipython-input-21-984ebb914dd7>\u001b[0m in \u001b[0;36m<module>\u001b[0;34m\u001b[0m\n\u001b[0;32m----> 1\u001b[0;31m \u001b[0mlosses\u001b[0m\u001b[0;34m,\u001b[0m \u001b[0mscores\u001b[0m \u001b[0;34m=\u001b[0m \u001b[0mtrain\u001b[0m\u001b[0;34m(\u001b[0m\u001b[0mmodel\u001b[0m\u001b[0;34m,\u001b[0m \u001b[0mtrain_loader\u001b[0m\u001b[0;34m,\u001b[0m \u001b[0moptimizer\u001b[0m\u001b[0;34m,\u001b[0m \u001b[0mcriterion\u001b[0m\u001b[0;34m,\u001b[0m \u001b[0mepochs\u001b[0m\u001b[0;34m=\u001b[0m\u001b[0;36m2\u001b[0m\u001b[0;34m)\u001b[0m\u001b[0;34m\u001b[0m\u001b[0;34m\u001b[0m\u001b[0m\n\u001b[0m\u001b[1;32m      2\u001b[0m \u001b[0mtorch\u001b[0m\u001b[0;34m.\u001b[0m\u001b[0msave\u001b[0m\u001b[0;34m(\u001b[0m\u001b[0mmodel\u001b[0m\u001b[0;34m.\u001b[0m\u001b[0mstate_dict\u001b[0m\u001b[0;34m(\u001b[0m\u001b[0;34m)\u001b[0m\u001b[0;34m,\u001b[0m \u001b[0;34m'model.pt'\u001b[0m\u001b[0;34m)\u001b[0m\u001b[0;34m\u001b[0m\u001b[0;34m\u001b[0m\u001b[0m\n",
      "\u001b[0;32m<ipython-input-20-581a66138389>\u001b[0m in \u001b[0;36mtrain\u001b[0;34m(model, train_loader, optimizer, criterion, epochs, PATH)\u001b[0m\n\u001b[1;32m     22\u001b[0m             \u001b[0mloss_conso\u001b[0m \u001b[0;34m=\u001b[0m \u001b[0mcriterion\u001b[0m\u001b[0;34m(\u001b[0m\u001b[0my_conso\u001b[0m\u001b[0;34m,\u001b[0m \u001b[0mt_conso\u001b[0m\u001b[0;34m)\u001b[0m\u001b[0;34m\u001b[0m\u001b[0;34m\u001b[0m\u001b[0m\n\u001b[1;32m     23\u001b[0m             \u001b[0mloss\u001b[0m \u001b[0;34m=\u001b[0m \u001b[0mloss_graph\u001b[0m \u001b[0;34m+\u001b[0m \u001b[0mloss_vowel\u001b[0m \u001b[0;34m+\u001b[0m \u001b[0mloss_conso\u001b[0m \u001b[0;31m# maybe tailor loss to evaluation metric\u001b[0m\u001b[0;34m\u001b[0m\u001b[0;34m\u001b[0m\u001b[0m\n\u001b[0;32m---> 24\u001b[0;31m             \u001b[0mloss\u001b[0m\u001b[0;34m.\u001b[0m\u001b[0mbackward\u001b[0m\u001b[0;34m(\u001b[0m\u001b[0;34m)\u001b[0m\u001b[0;34m\u001b[0m\u001b[0;34m\u001b[0m\u001b[0m\n\u001b[0m\u001b[1;32m     25\u001b[0m             \u001b[0moptimizer\u001b[0m\u001b[0;34m.\u001b[0m\u001b[0mstep\u001b[0m\u001b[0;34m(\u001b[0m\u001b[0;34m)\u001b[0m\u001b[0;34m\u001b[0m\u001b[0;34m\u001b[0m\u001b[0m\n\u001b[1;32m     26\u001b[0m             \u001b[0mrunning_loss\u001b[0m \u001b[0;34m+=\u001b[0m \u001b[0mloss\u001b[0m\u001b[0;34m.\u001b[0m\u001b[0mitem\u001b[0m\u001b[0;34m(\u001b[0m\u001b[0;34m)\u001b[0m\u001b[0;34m\u001b[0m\u001b[0;34m\u001b[0m\u001b[0m\n",
      "\u001b[0;32m/opt/anaconda3/lib/python3.7/site-packages/torch/tensor.py\u001b[0m in \u001b[0;36mbackward\u001b[0;34m(self, gradient, retain_graph, create_graph)\u001b[0m\n\u001b[1;32m    164\u001b[0m                 \u001b[0mproducts\u001b[0m\u001b[0;34m.\u001b[0m \u001b[0mDefaults\u001b[0m \u001b[0mto\u001b[0m\u001b[0;31m \u001b[0m\u001b[0;31m`\u001b[0m\u001b[0;31m`\u001b[0m\u001b[0;32mFalse\u001b[0m\u001b[0;31m`\u001b[0m\u001b[0;31m`\u001b[0m\u001b[0;34m.\u001b[0m\u001b[0;34m\u001b[0m\u001b[0;34m\u001b[0m\u001b[0m\n\u001b[1;32m    165\u001b[0m         \"\"\"\n\u001b[0;32m--> 166\u001b[0;31m         \u001b[0mtorch\u001b[0m\u001b[0;34m.\u001b[0m\u001b[0mautograd\u001b[0m\u001b[0;34m.\u001b[0m\u001b[0mbackward\u001b[0m\u001b[0;34m(\u001b[0m\u001b[0mself\u001b[0m\u001b[0;34m,\u001b[0m \u001b[0mgradient\u001b[0m\u001b[0;34m,\u001b[0m \u001b[0mretain_graph\u001b[0m\u001b[0;34m,\u001b[0m \u001b[0mcreate_graph\u001b[0m\u001b[0;34m)\u001b[0m\u001b[0;34m\u001b[0m\u001b[0;34m\u001b[0m\u001b[0m\n\u001b[0m\u001b[1;32m    167\u001b[0m \u001b[0;34m\u001b[0m\u001b[0m\n\u001b[1;32m    168\u001b[0m     \u001b[0;32mdef\u001b[0m \u001b[0mregister_hook\u001b[0m\u001b[0;34m(\u001b[0m\u001b[0mself\u001b[0m\u001b[0;34m,\u001b[0m \u001b[0mhook\u001b[0m\u001b[0;34m)\u001b[0m\u001b[0;34m:\u001b[0m\u001b[0;34m\u001b[0m\u001b[0;34m\u001b[0m\u001b[0m\n",
      "\u001b[0;32m/opt/anaconda3/lib/python3.7/site-packages/torch/autograd/__init__.py\u001b[0m in \u001b[0;36mbackward\u001b[0;34m(tensors, grad_tensors, retain_graph, create_graph, grad_variables)\u001b[0m\n\u001b[1;32m     97\u001b[0m     Variable._execution_engine.run_backward(\n\u001b[1;32m     98\u001b[0m         \u001b[0mtensors\u001b[0m\u001b[0;34m,\u001b[0m \u001b[0mgrad_tensors\u001b[0m\u001b[0;34m,\u001b[0m \u001b[0mretain_graph\u001b[0m\u001b[0;34m,\u001b[0m \u001b[0mcreate_graph\u001b[0m\u001b[0;34m,\u001b[0m\u001b[0;34m\u001b[0m\u001b[0;34m\u001b[0m\u001b[0m\n\u001b[0;32m---> 99\u001b[0;31m         allow_unreachable=True)  # allow_unreachable flag\n\u001b[0m\u001b[1;32m    100\u001b[0m \u001b[0;34m\u001b[0m\u001b[0m\n\u001b[1;32m    101\u001b[0m \u001b[0;34m\u001b[0m\u001b[0m\n",
      "\u001b[0;31mKeyboardInterrupt\u001b[0m: "
     ]
    }
   ],
   "source": [
    "losses, scores = train(model, train_loader, optimizer, criterion, epochs=2)\n",
    "torch.save(model.state_dict(), 'model.pt')"
   ]
  },
  {
   "cell_type": "code",
   "execution_count": 52,
   "metadata": {
    "colab": {},
    "colab_type": "code",
    "id": "TWtYCmNXkAHW"
   },
   "outputs": [],
   "source": [
    "def plot_perf(losses, scores):\n",
    "    fig, ax = plt.subplots(1, 2, figsize=(12,4))\n",
    "    ax[0].plot(losses)\n",
    "    ax[0].set_xlabel('Epoch')\n",
    "    ax[0].set_ylabel('Loss')\n",
    "    ax[0].set_title('Loss over epochs', size=14)\n",
    "    ax[1].plot(scores)\n",
    "    ax[1].set_xlabel('Epoch')\n",
    "    ax[1].set_ylabel('Score')\n",
    "    ax[1].set_title('Score over epochs', size=14)\n",
    "    plt.show()"
   ]
  },
  {
   "cell_type": "code",
   "execution_count": 53,
   "metadata": {
    "colab": {},
    "colab_type": "code",
    "id": "WRPPKCPgkAHa"
   },
   "outputs": [
    {
     "data": {
      "image/png": "[encoded data removed]",
      "text/plain": [
       "<Figure size 864x288 with 2 Axes>"
      ]
     },
     "metadata": {
      "needs_background": "light"
     },
     "output_type": "display_data"
    }
   ],
   "source": [
    "plot_perf(losses, scores)"
   ]
  }
 ],
 "metadata": {
  "colab": {
   "machine_shape": "hm",
   "name": "training_loop.ipynb",
   "provenance": []
  },
  "kernelspec": {
   "display_name": "Python 3",
   "language": "python",
   "name": "python3"
  },
  "language_info": {
   "codemirror_mode": {
    "name": "ipython",
    "version": 3
   },
   "file_extension": ".py",
   "mimetype": "text/x-python",
   "name": "python",
   "nbconvert_exporter": "python",
   "pygments_lexer": "ipython3",
   "version": "3.7.4"
  }
 },
 "nbformat": 4,
 "nbformat_minor": 4
}
