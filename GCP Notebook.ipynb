{
 "cells": [
  {
   "cell_type": "markdown",
   "metadata": {
    "colab_type": "text",
    "id": "cwXxGn5FkAGE"
   },
   "source": [
    "# Bengali.AI - Training loop\n",
    "\n",
    "The notebook was created in Kaggle. It only contains the code for the training loop, and the (preprocessed) data still has  to be put into a `Dataset` object (see below) to initialize the train/test datasets and loaders. After this is done, the training loop should work but I have only tested it as far as possible with a (simpler) placeholder dataset. Some parts do not have a defined output yet (e.g., model output), thus a certain output format is assumed for now in those cases."
   ]
  },
  {
   "cell_type": "code",
   "execution_count": 1,
   "metadata": {},
   "outputs": [],
   "source": [
    "import re\n",
    "from torch._six import container_abcs, string_classes, int_classes\n",
    "from torch.utils.data._utils import collate\n",
    "\n",
    "np_str_obj_array_pattern = re.compile(r'[SaUO]')\n",
    "default_collate_err_msg_format = (\n",
    "    \"default_collate: batch must contain tensors, numpy arrays, numbers, \"\n",
    "    \"dicts or lists; found {}\")\n",
    "\n",
    "def _new_default_collate(batch):\n",
    "    r\"\"\"Puts each data field into a tensor with outer dimension batch size\"\"\"\n",
    "\n",
    "    elem = batch[0]\n",
    "    elem_type = type(elem)\n",
    "    if isinstance(elem, torch.Tensor):\n",
    "        out = None\n",
    "        if torch.utils.data.get_worker_info() is not None:\n",
    "            # If we're in a background process, concatenate directly into a\n",
    "            # shared memory tensor to avoid an extra copy\n",
    "            numel = sum([x.numel() for x in batch])\n",
    "            storage = elem.storage()._new_shared(numel)\n",
    "            out = elem.new(storage)\n",
    "        return torch.cat(batch, 0, out=out)\n",
    "    elif elem_type.__module__ == 'numpy' and elem_type.__name__ != 'str_' \\\n",
    "            and elem_type.__name__ != 'string_':\n",
    "        elem = batch[0]\n",
    "        if elem_type.__name__ == 'ndarray':\n",
    "            # array of string classes and object\n",
    "            if np_str_obj_array_pattern.search(elem.dtype.str) is not None:\n",
    "                raise TypeError(default_collate_err_msg_format.format(elem.dtype))\n",
    "\n",
    "            return _new_default_collate([torch.as_tensor(b) for b in batch])\n",
    "        elif elem.shape == ():  # scalars\n",
    "            return torch.as_tensor(batch)\n",
    "    elif isinstance(elem, float):\n",
    "        return torch.tensor(batch, dtype=torch.float64)\n",
    "    elif isinstance(elem, int_classes):\n",
    "        return torch.tensor(batch)\n",
    "    elif isinstance(elem, string_classes):\n",
    "        return batch\n",
    "    elif isinstance(elem, container_abcs.Mapping):\n",
    "        return {key: _new_default_collate([d[key] for d in batch]) for key in elem}\n",
    "    elif isinstance(elem, tuple) and hasattr(elem, '_fields'):  # namedtuple\n",
    "        return elem_type(*(_new_default_collate(samples) for samples in zip(*batch)))\n",
    "    elif isinstance(elem, container_abcs.Sequence):\n",
    "        transposed = zip(*batch)\n",
    "        return [_new_default_collate(samples) for samples in transposed]\n",
    "\n",
    "    raise TypeError(default_collate_err_msg_format.format(elem_type))\n",
    "    \n",
    "collate.default_collate = _new_default_collate"
   ]
  },
  {
   "cell_type": "code",
   "execution_count": 2,
   "metadata": {
    "colab": {},
    "colab_type": "code",
    "id": "MhtWUpchkAGS"
   },
   "outputs": [],
   "source": [
    "import numpy as np\n",
    "import pandas as pd\n",
    "import torch\n",
    "import torch.nn as nn\n",
    "from torch.utils.data import Dataset, DataLoader\n",
    "import torchvision.transforms as transforms\n",
    "from tqdm.notebook import tqdm\n",
    "from sklearn.metrics import recall_score\n",
    "import matplotlib.pyplot as plt\n",
    "%matplotlib notebook"
   ]
  },
  {
   "cell_type": "code",
   "execution_count": 3,
   "metadata": {},
   "outputs": [],
   "source": [
    "# use GPU if available\n",
    "device = torch.device('cuda' if torch.cuda.is_available() else 'cpu')\n",
    "\n",
    "SIZE = 128\n",
    "BATCH_SIZE = 32\n",
    "PATH = 'model.pt'"
   ]
  },
  {
   "cell_type": "code",
   "execution_count": 4,
   "metadata": {
    "colab": {},
    "colab_type": "code",
    "id": "v2AzEzcjoTek"
   },
   "outputs": [],
   "source": [
    "train_images = np.load('train_image_data.npy')"
   ]
  },
  {
   "cell_type": "code",
   "execution_count": 5,
   "metadata": {
    "colab": {},
    "colab_type": "code",
    "id": "flZY7DeTn67F"
   },
   "outputs": [],
   "source": [
    "class ResidualBlock(nn.Module):\n",
    "    def __init__(self, in_channels, out_channels, stride=1, kernel_size=3, padding=1, bias=False):\n",
    "        super(ResidualBlock, self).__init__()\n",
    "        self.cnn1 = nn.Sequential(\n",
    "            nn.Conv2d(in_channels, out_channels, kernel_size, stride, padding, bias=False),\n",
    "            nn.BatchNorm2d(out_channels),\n",
    "            nn.ReLU(True)\n",
    "        )\n",
    "        self.cnn2 = nn.Sequential(\n",
    "            nn.Conv2d(out_channels, out_channels, kernel_size, 1, padding, bias=False),\n",
    "            nn.BatchNorm2d(out_channels)\n",
    "        )\n",
    "        if stride != 1 or in_channels != out_channels:\n",
    "            self.shortcut = nn.Sequential(\n",
    "                nn.Conv2d(in_channels, out_channels, kernel_size=1, stride=stride, bias=False),\n",
    "                nn.BatchNorm2d(out_channels)\n",
    "            )\n",
    "        else:\n",
    "            self.shortcut = nn.Sequential()\n",
    "\n",
    "    def forward(self, x):\n",
    "        residual = x\n",
    "        x = self.cnn1(x)\n",
    "        x = self.cnn2(x)\n",
    "        x += self.shortcut(residual)\n",
    "        x = nn.ReLU(True)(x)\n",
    "        return x\n",
    "\n",
    "\n",
    "class ResNet34(nn.Module):\n",
    "    \"\"\"\n",
    "    from 'ResNet-34 PyTorch Starter Kit'\n",
    "    \"\"\"\n",
    "\n",
    "    def __init__(self):\n",
    "        super(ResNet34, self).__init__()\n",
    "\n",
    "        self.block1 = nn.Sequential(\n",
    "            nn.Conv2d(1, 64, kernel_size=2, stride=2, padding=3, bias=False),\n",
    "            nn.BatchNorm2d(64),\n",
    "            nn.ReLU(True)\n",
    "        )\n",
    "\n",
    "        self.block2 = nn.Sequential(\n",
    "            nn.MaxPool2d(1, 1),\n",
    "            ResidualBlock(64, 64),\n",
    "            ResidualBlock(64, 64, 2)\n",
    "        )\n",
    "\n",
    "        self.block3 = nn.Sequential(\n",
    "            ResidualBlock(64, 128),\n",
    "            ResidualBlock(128, 128, 2)\n",
    "        )\n",
    "\n",
    "        self.block4 = nn.Sequential(\n",
    "            ResidualBlock(128, 256),\n",
    "            ResidualBlock(256, 256, 2)\n",
    "        )\n",
    "        self.block5 = nn.Sequential(\n",
    "            ResidualBlock(256, 512),\n",
    "            ResidualBlock(512, 512, 2)\n",
    "        )\n",
    "\n",
    "        self.avgpool = nn.AvgPool2d(2)\n",
    "        # grapheme_root\n",
    "        self.fc1 = nn.Linear(2048, 168)\n",
    "        # vowel_diacritic\n",
    "        self.fc2 = nn.Linear(2048, 11)\n",
    "        # consonant_diacritic\n",
    "        self.fc3 = nn.Linear(2048, 7)\n",
    "\n",
    "    def forward(self, x):\n",
    "        x = self.block1(x)\n",
    "        x = self.block2(x)\n",
    "        x = self.block3(x)\n",
    "        x = self.block4(x)\n",
    "        x = self.block5(x)\n",
    "        x = self.avgpool(x)\n",
    "        x = x.view(x.size(0), -1)\n",
    "        x1 = self.fc1(x)\n",
    "        x2 = self.fc2(x)\n",
    "        x3 = self.fc3(x)\n",
    "        return x1, x2, x3"
   ]
  },
  {
   "cell_type": "code",
   "execution_count": 6,
   "metadata": {
    "_cell_guid": "79c7e3d0-c299-4dcb-8224-4455121ee9b0",
    "_uuid": "d629ff2d2480ee46fbb7e2d37f6b5fab8052498a",
    "colab": {},
    "colab_type": "code",
    "id": "9KUkq0SMkAGY"
   },
   "outputs": [
    {
     "data": {
      "text/html": [
       "<div>\n",
       "<style scoped>\n",
       "    .dataframe tbody tr th:only-of-type {\n",
       "        vertical-align: middle;\n",
       "    }\n",
       "\n",
       "    .dataframe tbody tr th {\n",
       "        vertical-align: top;\n",
       "    }\n",
       "\n",
       "    .dataframe thead th {\n",
       "        text-align: right;\n",
       "    }\n",
       "</style>\n",
       "<table border=\"1\" class=\"dataframe\">\n",
       "  <thead>\n",
       "    <tr style=\"text-align: right;\">\n",
       "      <th></th>\n",
       "      <th>grapheme_root</th>\n",
       "      <th>vowel_diacritic</th>\n",
       "      <th>consonant_diacritic</th>\n",
       "    </tr>\n",
       "  </thead>\n",
       "  <tbody>\n",
       "    <tr>\n",
       "      <th>0</th>\n",
       "      <td>15</td>\n",
       "      <td>9</td>\n",
       "      <td>5</td>\n",
       "    </tr>\n",
       "    <tr>\n",
       "      <th>1</th>\n",
       "      <td>159</td>\n",
       "      <td>0</td>\n",
       "      <td>0</td>\n",
       "    </tr>\n",
       "    <tr>\n",
       "      <th>2</th>\n",
       "      <td>22</td>\n",
       "      <td>3</td>\n",
       "      <td>5</td>\n",
       "    </tr>\n",
       "    <tr>\n",
       "      <th>3</th>\n",
       "      <td>53</td>\n",
       "      <td>2</td>\n",
       "      <td>2</td>\n",
       "    </tr>\n",
       "    <tr>\n",
       "      <th>4</th>\n",
       "      <td>71</td>\n",
       "      <td>9</td>\n",
       "      <td>5</td>\n",
       "    </tr>\n",
       "  </tbody>\n",
       "</table>\n",
       "</div>"
      ],
      "text/plain": [
       "   grapheme_root  vowel_diacritic  consonant_diacritic\n",
       "0             15                9                    5\n",
       "1            159                0                    0\n",
       "2             22                3                    5\n",
       "3             53                2                    2\n",
       "4             71                9                    5"
      ]
     },
     "execution_count": 6,
     "metadata": {},
     "output_type": "execute_result"
    }
   ],
   "source": [
    "train_labels = pd.read_csv('train.csv').iloc[:, 1:-1]\n",
    "train_labels.head()"
   ]
  },
  {
   "cell_type": "markdown",
   "metadata": {
    "colab_type": "text",
    "id": "Kvac-J-YkAGo"
   },
   "source": [
    "TODO: split dataset into train and validation set."
   ]
  },
  {
   "cell_type": "code",
   "execution_count": 7,
   "metadata": {},
   "outputs": [],
   "source": [
    "model = ResNet34() # initialize model here\n",
    "model = model.to(device)\n",
    "optimizer = torch.optim.Adam(model.parameters(), lr=0.001)\n",
    "criterion = nn.CrossEntropyLoss()"
   ]
  },
  {
   "cell_type": "code",
   "execution_count": 8,
   "metadata": {},
   "outputs": [],
   "source": [
    "class Cutout(object):\n",
    "    def __init__(self, num_holes, length):    \n",
    "        \"\"\"Randomly mask out one or more patches from an image.\n",
    "        \n",
    "        Args:\n",
    "            n_holes = [int] number of patches to cut out of the image\n",
    "            length  = [int] the length (in pixels) of each square patch\n",
    "        \"\"\"\n",
    "        self.num_holes = num_holes\n",
    "        self.length = length\n",
    "\n",
    "    def __call__(self, img):\n",
    "      \"\"\"\n",
    "      Args:\n",
    "          img = [Tensor] tensor image of size (1x128x128)\n",
    "      Returns [Tensor]:\n",
    "          Image with num_holes of dimension length x length cut out of it.\n",
    "      \"\"\"\n",
    "      coords = torch.randint(high=SIZE, size=(2, self.num_holes))\n",
    "\n",
    "      x1, y1 = torch.clamp(coords - self.length // 2, 0, SIZE)\n",
    "      x2, y2 = torch.clamp(coords + self.length // 2, 0, SIZE)\n",
    "\n",
    "      mask = torch.ones_like(img)\n",
    "      for x1, y1, x2, y2 in zip(x1, y1, x2, y2):\n",
    "          mask[:, y1:y2, x1:x2] = 0\n",
    "\n",
    "      return img * mask"
   ]
  },
  {
   "cell_type": "code",
   "execution_count": 9,
   "metadata": {
    "colab": {},
    "colab_type": "code",
    "id": "C0XlmbNckAGq"
   },
   "outputs": [],
   "source": [
    "# Put data into Dataset object\n",
    "class BengaliDataset(Dataset):\n",
    "    def __init__(self, images, labels, device, num_augmentations=4):\n",
    "        super(Dataset, self).__init__()\n",
    "        \n",
    "        self.images = images\n",
    "        self.transform_image = transforms.Compose([\n",
    "            transforms.ToPILImage(),\n",
    "            transforms.RandomAffine(\n",
    "                degrees=(-8, 8),\n",
    "                translate=(1 / 24, 1 / 24),\n",
    "                scale=(8 / 9, 10 / 9)\n",
    "            ),\n",
    "            transforms.ToTensor()\n",
    "        ])\n",
    "        self.transform_tensor = transforms.Compose([\n",
    "            transforms.Normalize(mean=(0.071371482,), std=(0.20764154,)),\n",
    "            Cutout(8, 12)\n",
    "        ])\n",
    "        \n",
    "        self.labels = torch.tensor(labels.to_numpy(), device=device)\n",
    "        counts = labels.apply(pd.Series.value_counts).to_numpy().T\n",
    "        counts_max = np.nanmax(counts, axis=1, keepdims=True)\n",
    "        self.ratio_counts = torch.tensor(counts_max // counts, device=device)\n",
    "        self.mod_counts = torch.tensor(counts_max % counts, device=device)\n",
    "        \n",
    "        self.device = device\n",
    "        \n",
    "        self.reset()\n",
    "        \n",
    "    def reset(self):\n",
    "        self.current_counts = torch.zeros_like(self.mod_counts)\n",
    "\n",
    "    def __len__(self):\n",
    "        return len(self.images)\n",
    "    \n",
    "    def _num_augmentations(self, labels):\n",
    "        counts = self.current_counts[[0, 1, 2], labels]\n",
    "        extra = counts < self.mod_counts[[0, 1, 2], labels]\n",
    "\n",
    "        num_augmentations = self.ratio_counts[[0, 1, 2], labels] + extra\n",
    "        self.current_counts[[0, 1, 2], labels] += extra\n",
    "\n",
    "        return num_augmentations.long()\n",
    "    \n",
    "    def _split(self, array, diffs):\n",
    "        sub_arrays = []\n",
    "        diffs = torch.cat((torch.zeros_like(diffs)[:1], diffs))\n",
    "        sections = torch.cumsum(diffs, dim=0)\n",
    "        for start, end in zip(sections, sections[1:]):\n",
    "            sub_arrays.append(torch.stack(tuple(array[start:end])))\n",
    "\n",
    "        return sub_arrays\n",
    "\n",
    "    def __getitem__(self, idx):\n",
    "        image = self.images[idx]\n",
    "        labels = self.labels[idx]\n",
    "        num_augmentations = self._num_augmentations(labels)\n",
    "        \n",
    "        images = []\n",
    "        for _ in range(sum(num_augmentations)):\n",
    "            img = self.transform_image(image).to(self.device)\n",
    "            images.append(self.transform_tensor(img))\n",
    "        images = self._split(images, num_augmentations)           \n",
    "        \n",
    "        labels = labels.repeat_interleave(num_augmentations)\n",
    "        labels = self._split(labels, num_augmentations)\n",
    "\n",
    "        return tuple(images) + tuple(labels)"
   ]
  },
  {
   "cell_type": "code",
   "execution_count": 10,
   "metadata": {},
   "outputs": [],
   "source": [
    "train_dataset = BengaliDataset(train_images, train_labels, device) # alternatively use TensorDataset\n",
    "train_loader = DataLoader(train_dataset, batch_size=BATCH_SIZE, shuffle=True) # num_workers can be set\n",
    "# TODO: test_dataset and test_loader (=validation set)"
   ]
  },
  {
   "cell_type": "code",
   "execution_count": 11,
   "metadata": {
    "colab": {},
    "colab_type": "code",
    "id": "Y4Yk4QRlkAG7"
   },
   "outputs": [],
   "source": [
    "def eval_metric(pred_dict, true_dict):\n",
    "    \"\"\"\n",
    "    Competition evaluation metric adapted from:\n",
    "    https://www.kaggle.com/c/bengaliai-cv19/overview/evaluation\n",
    "    The metric describes the weighted average of component \n",
    "    macro-averaged recalls.\n",
    "    \n",
    "    Args:\n",
    "        pred_dict = [dict] dictionary with components as keys and\n",
    "                           lists of predictions as values\n",
    "        true_dict = [dict] dictionary with components as key and\n",
    "                           lists of targets as values\n",
    "    \n",
    "    Returns [float]:\n",
    "        Weighted average of component macro-averaged recalls\n",
    "    \"\"\"\n",
    "    scores = []\n",
    "    for key in ['grapheme', 'vowel', 'consonant']:\n",
    "        score = recall_score(true_dict[key], pred_dict[key], average='macro')\n",
    "        scores.append(score)\n",
    "    return np.average(scores, weights=[2, 1, 1])"
   ]
  },
  {
   "cell_type": "code",
   "execution_count": 12,
   "metadata": {
    "colab": {},
    "colab_type": "code",
    "id": "3lZbC2IckAHA"
   },
   "outputs": [],
   "source": [
    "def update_dicts(key, pred_dict, true_dict, pred, target):\n",
    "    \"\"\"\n",
    "    Updates two dictionaries given a key with the provided values.\n",
    "    Assumes batches.\n",
    "    \n",
    "    Args:\n",
    "        key       = [string] the key in the dictionary to update\n",
    "        pred_dict = [dict] dictionary with components as keys and\n",
    "                           lists of predictions as values\n",
    "        true_dict = [dict] dictionary with components as key and\n",
    "                           lists of targets as values\n",
    "        pred      = [torch.Tensor] tensor of (raw) predictions\n",
    "        target    = [torch.Tensor] tensor of targets\n",
    "    \"\"\"\n",
    "    _, pred = torch.max(pred.data, 1)\n",
    "    pred_list = pred.tolist()\n",
    "    target_list = target.tolist()\n",
    "    pred_dict[key] += pred_list\n",
    "    true_dict[key] += target_list"
   ]
  },
  {
   "cell_type": "markdown",
   "metadata": {
    "colab_type": "text",
    "id": "7pEzITCBkAHI"
   },
   "source": [
    "Naming convention:\n",
    "- `x` = input\n",
    "- `t` = target\n",
    "- `y` = predicted output\n"
   ]
  },
  {
   "cell_type": "code",
   "execution_count": 13,
   "metadata": {
    "colab": {},
    "colab_type": "code",
    "id": "qW6ECh0vkAHL"
   },
   "outputs": [],
   "source": [
    "def train(model, train_loader, optimizer, criterion, epochs=10, path=PATH):\n",
    "    losses = [] # keep track of losses\n",
    "    scores = [] # keep track of scores\n",
    "    \n",
    "    for epoch in range(epochs):\n",
    "        running_loss = 0.0\n",
    "        pred_dict = {'grapheme': [], 'vowel': [], 'consonant': []}\n",
    "        true_dict = {'grapheme': [], 'vowel': [], 'consonant': []}\n",
    "        \n",
    "        for data in tqdm(train_loader, desc=f\"Epoch {epoch+1}\"):\n",
    "            # unpack inputs and targets\n",
    "            x_graph, x_vowel, x_conso, t_graph, t_vowel, t_conso = data # depends on what is returned by Dataset.__getitem__\n",
    "            # x = torch.cat((x_graph, x_vowel, x_conso))\n",
    "            \n",
    "            x_components = (x_graph, x_vowel, x_conso)\n",
    "            t_components = (t_graph, t_vowel, t_conso)\n",
    "            components = ['grapheme', 'vowel', 'consonant']\n",
    "            for idx, (x, t) in enumerate(zip(x_components, t_components)):\n",
    "                # predict\n",
    "                y = model(x)\n",
    "                loss = criterion(y[idx], t)\n",
    "                \n",
    "                # update model\n",
    "                optimizer.zero_grad()\n",
    "                loss.backward()\n",
    "                optimizer.step()\n",
    "            \n",
    "                # TODO: different running losses for the different subproblems\n",
    "                running_loss += loss.item() if idx == 0 else 0\n",
    "                      \n",
    "                 # update pred_dict and true_dict\n",
    "                update_dicts(components[idx], pred_dict, true_dict, y[idx], t)\n",
    "                \n",
    "                del y, loss\n",
    "        \n",
    "        losses.append(running_loss / len(train_loader))\n",
    "        score = eval_metric(pred_dict, true_dict)\n",
    "        scores.append( score )\n",
    "        \n",
    "        print('Loss: {:.3f}'.format( running_loss / len(train_loader) ))\n",
    "        print('Score: {:.3f}'.format( score ))\n",
    "        \n",
    "    # save model weights at path\n",
    "    torch.save(model.state_dict(), path)\n",
    "    \n",
    "    return losses, scores            "
   ]
  },
  {
   "cell_type": "code",
   "execution_count": null,
   "metadata": {
    "colab": {
     "base_uri": "https://localhost:8080/",
     "height": 340
    },
    "colab_type": "code",
    "id": "Nei3Dc8YkAHR",
    "outputId": "e98ea9e5-53dd-43eb-ae5c-703afbb376cb"
   },
   "outputs": [
    {
     "data": {
      "application/vnd.jupyter.widget-view+json": {
       "model_id": "f0d60fafd03b4fd9bab42dfbeca2c667",
       "version_major": 2,
       "version_minor": 0
      },
      "text/plain": [
       "HBox(children=(FloatProgress(value=0.0, description='Epoch 1', max=6277.0, style=ProgressStyle(description_wid…"
      ]
     },
     "metadata": {},
     "output_type": "display_data"
    }
   ],
   "source": [
    "losses, scores = train(model, train_loader, optimizer, criterion, epochs=2)"
   ]
  },
  {
   "cell_type": "code",
   "execution_count": 52,
   "metadata": {
    "colab": {},
    "colab_type": "code",
    "id": "TWtYCmNXkAHW"
   },
   "outputs": [],
   "source": [
    "def plot_perf(losses, scores):\n",
    "    fig, ax = plt.subplots(1, 2, figsize=(12,4))\n",
    "    ax[0].plot(losses)\n",
    "    ax[0].set_xlabel('Epoch')\n",
    "    ax[0].set_ylabel('Loss')\n",
    "    ax[0].set_title('Loss over epochs', size=14)\n",
    "    ax[1].plot(scores)\n",
    "    ax[1].set_xlabel('Epoch')\n",
    "    ax[1].set_ylabel('Score')\n",
    "    ax[1].set_title('Score over epochs', size=14)"
   ]
  },
  {
   "cell_type": "code",
   "execution_count": 53,
   "metadata": {
    "colab": {},
    "colab_type": "code",
    "id": "WRPPKCPgkAHa"
   },
   "outputs": [
    {
     "data": {
      "image/png": "[encoded data removed]",
      "text/plain": [
       "<Figure size 864x288 with 2 Axes>"
      ]
     },
     "metadata": {
      "needs_background": "light"
     },
     "output_type": "display_data"
    }
   ],
   "source": [
    "plot_perf(losses, scores)"
   ]
  }
 ],
 "metadata": {
  "colab": {
   "machine_shape": "hm",
   "name": "training_loop.ipynb",
   "provenance": []
  },
  "kernelspec": {
   "display_name": "Python 3",
   "language": "python",
   "name": "python3"
  },
  "language_info": {
   "codemirror_mode": {
    "name": "ipython",
    "version": 3
   },
   "file_extension": ".py",
   "mimetype": "text/x-python",
   "name": "python",
   "nbconvert_exporter": "python",
   "pygments_lexer": "ipython3",
   "version": "3.7.4"
  }
 },
 "nbformat": 4,
 "nbformat_minor": 4
}
